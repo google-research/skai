{
  "cells": [
    {
      "cell_type": "markdown",
      "metadata": {
        "id": "wquAnPg0p4Y8"
      },
      "source": [
        "# FLAX Training on SKAI Images.\n",
        "\n",
        "Baseline and augmentation training on SKAI image domains using text-to-image synthesized models."
      ]
    },
    {
      "cell_type": "markdown",
      "metadata": {
        "id": "2cMTM3W4hcsZ"
      },
      "source": [
        "## Setup"
      ]
    },
    {
      "cell_type": "code",
      "execution_count": null,
      "metadata": {
        "id": "GhULC4H5Tb5r"
      },
      "outputs": [],
      "source": [
        "# Any changes you make to train.py will appear automatically.\n",
        "%load_ext autoreload\n",
        "%autoreload 2\n",
        "\n",
        "import functools\n",
        "import time\n",
        "from clu import metric_writers\n",
        "from clu import periodic_actions\n",
        "from flax.training import common_utils\n",
        "import pandas as pd\n",
        "import numpy as np\n",
        "\n",
        "from colabtools import adhoc_import\n",
        "from google3.pyglib import gfile\n",
        "from typing import List, Optional\n",
        "\n",
        "import jax\n",
        "import tensorflow_datasets as tfds\n",
        "import tensorflow as tf\n",
        "import flax\n",
        "from flax import jax_utils\n",
        "\n",
        "from getpass import getuser\n",
        "\n",
        "try:\n",
        "  from colabtools import googlelog\n",
        "  googlelog.set_global_capture(False)  # Comment this out if you don't want logs\n",
        "except:\n",
        "  print('Can not import googlelog module... skipping')\n",
        "\n",
        "client_name = ''\n",
        "if client_name in ['head', '']:\n",
        "  client = adhoc_import.Google3Head\n",
        "else:\n",
        "  user_name = getuser()\n",
        "  client = functools.partial(\n",
        "      adhoc_import.Google3CitcClient, client_name, user_name\n",
        "  )\n",
        "\n",
        "with client():\n",
        "  from google3.experimental.users.tarunkalluri.SKAI_training.configs.skai_configs_loo import get_config_loo\n",
        "  from google3.experimental.users.tarunkalluri.SKAI_training.configs.skai_configs_single import get_config_single\n",
        "\n",
        "  from google3.experimental.users.tarunkalluri.SKAI_training import train as train_module"
      ]
    },
    {
      "cell_type": "markdown",
      "metadata": {
        "id": "7kFEAKUithsL"
      },
      "source": [
        "## Single-domain training:\n",
        "\n",
        "Train and test on a single dataset. Establish Baselines.\n",
        "\n",
        "`target_domain` is the domain to train and evaluate on."
      ]
    },
    {
      "cell_type": "code",
      "execution_count": null,
      "metadata": {
        "id": "mLW_w3cOr9uz"
      },
      "outputs": [],
      "source": [
        "## Stage 1 training - Full training on 3 domains.\n",
        "all_auprc = {}\n",
        "all_domains = [\"ian\", \"laura\", \"maria\", \"michael\"]\n",
        "all_auprc = {d:{} for d in all_domains}\n",
        "for target_domain in all_domains:\n",
        "  cfg = get_config_single(\n",
        "                      train_domain=target_domain,\n",
        "                      pretrained_path=None,\n",
        "                      last_layer=True,\n",
        "                      use_aug_data=False,\n",
        "                      use_aug_only=False,\n",
        "                      load_checkpoint=False,\n",
        "                      suffix=\"_colab_training\"\n",
        "                      )\n",
        "  print(\"Saving to {}\".format(cfg.workdir))\n",
        "  best_auprc, _ = train_module.train_and_evaluate(cfg)\n",
        "  for eval_domain in all_domains:\n",
        "    print(\"Evaluating {} to {}\".format(target_domain, eval_domain))\n",
        "    _, acc_vals = train_module.evaluate(cfg, eval_domain)\n",
        "    all_auprc[target_domain][eval_domain] = acc_vals\n",
        "\n",
        "print(all_auprc)"
      ]
    },
    {
      "cell_type": "code",
      "execution_count": null,
      "metadata": {
        "id": "VJWA9aJ_C63W"
      },
      "outputs": [],
      "source": [
        "for s in all_domains:\n",
        "  for t in all_domains:\n",
        "    print(\"{:.2f}/{:.2f}/{:.2f}\".format(all_auprc[s][t][\"auprc\"]*100, all_auprc[s][t][\"f1\"]*100, all_auprc[s][t][\"avg_acc\"]*100), end=\" \")\n",
        "  print(\"\\n\")"
      ]
    },
    {
      "cell_type": "markdown",
      "metadata": {
        "id": "vl-zpKdkXd8F"
      },
      "source": [
        "## Multi-domain Training: Train on all domains"
      ]
    },
    {
      "cell_type": "code",
      "execution_count": null,
      "metadata": {
        "id": "Od-yfRNR0kqe"
      },
      "outputs": [],
      "source": [
        "## Stage 1 training - Full training on 3 domains.\n",
        "loo_domain = \"\"\n",
        "model_name=\"B_16-i21k-300ep-lr_0.001-aug_medium1-wd_0.1-do_0.0-sd_0.0\"\n",
        "cfg = get_config_loo(loo_dataset=loo_domain,\n",
        "                     pretrained_path=None,\n",
        "                     model_name=model_name,\n",
        "                     last_layer=True,\n",
        "                     use_aug_data=False,\n",
        "                     use_aug_only=False,\n",
        "                     load_checkpoint=False,\n",
        "                     suffix=\"_colab_training\")\n",
        "\n",
        "print(\"Saving to %s\"%cfg.workdir)\n",
        "best_auprc_loo, state = train_module.train_and_evaluate(cfg)"
      ]
    },
    {
      "cell_type": "code",
      "execution_count": null,
      "metadata": {
        "id": "zHxwoT0GNB3m"
      },
      "outputs": [],
      "source": [
        "all_auprc = {}\n",
        "all_domains = [\"ian\", \"laura\", \"maria\", \"michael\"]\n",
        "for target_domain in all_domains:\n",
        "  print(\"Evaluating {} to {}\".format(target_domain, target_domain))\n",
        "  _, acc_vals = train_module.evaluate(cfg, target_domain)\n",
        "  all_auprc[target_domain] = acc_vals"
      ]
    },
    {
      "cell_type": "code",
      "execution_count": null,
      "metadata": {
        "id": "QpT942iDeJ84"
      },
      "outputs": [],
      "source": [
        "for t in all_domains:\n",
        "  print(\"{:.2f}/{:.2f}/{:.2f}\".format(all_auprc[t][\"auprc\"]*100, all_auprc[t][\"f1\"]*100, all_auprc[t][\"avg_acc\"]*100), end=\" \")\n",
        "print(\"\\n\")"
      ]
    },
    {
      "cell_type": "markdown",
      "metadata": {
        "id": "L2D5vYc4eRVk"
      },
      "source": [
        "## Stage 1 Leave-One-Out Training: Train on 3 domain and test on the 4th."
      ]
    },
    {
      "cell_type": "code",
      "execution_count": null,
      "metadata": {
        "id": "8G3NPy14Ce2f"
      },
      "outputs": [],
      "source": [
        "## Stage 1 training - Full training on 3 domains.\n",
        "all_domains = [\"ian\", \"laura\", \"maria\", \"michael\"]\n",
        "saved_path = \"/cns/dl-d/home/jereliu/public/tarunkalluri/vit_base/vit_skai_test_LOO_{}_AUG_False_lastLayer_False_fromPT_False_TgtDataOnly_False\"\n",
        "\n",
        "for loo_domain in all_domains:\n",
        "  model_name=\"B_16-i21k-300ep-lr_0.001-aug_medium1-wd_0.1-do_0.0-sd_0.0\"\n",
        "  cfg = get_config_loo(loo_dataset=loo_domain,\n",
        "                      pretrained_path=saved_path.format(loo_domain),\n",
        "                      model_name=model_name,\n",
        "                      last_layer=True,\n",
        "                      use_aug_data=True,\n",
        "                      use_aug_only=True,\n",
        "                      load_checkpoint=True,\n",
        "                      suffix=\"_colab_training\")\n",
        "\n",
        "  cfg.edit_mode = \"at_target_unsup\"\n",
        "\n",
        "  print(\"Saving to %s\"%cfg.workdir)\n",
        "  best_auprc_loo, state = train_module.train_and_evaluate(cfg)"
      ]
    },
    {
      "cell_type": "code",
      "execution_count": null,
      "metadata": {
        "id": "YuNKEhRVWK5f"
      },
      "outputs": [],
      "source": [
        "## inference\n",
        "\n",
        "saved_path = \"/cns/dl-d/home/jereliu/public/tarunkalluri/vit_base/vit_skai_test_LOO_{}_AUG_True_lastLayer_True_fromPT_False_TgtDataOnly_False_TargetTuned\"\n",
        "\n",
        "all_auprc = {}\n",
        "all_domains = [\"ian\", \"laura\", \"maria\", \"michael\"]\n",
        "for target_domain in all_domains:\n",
        "  print(\"Evaluating {}\".format(target_domain))\n",
        "  pt_path = saved_path.format(target_domain)\n",
        "  _, acc_vals = train_module.evaluate(cfg, target_domain, load_dir=pt_path)\n",
        "  all_auprc[target_domain] = acc_vals"
      ]
    },
    {
      "cell_type": "code",
      "execution_count": null,
      "metadata": {
        "id": "aLVi_5voX2w7"
      },
      "outputs": [],
      "source": [
        "for t in all_domains:\n",
        "  print(\"{:.2f}/{:.2f}/{:.2f}\".format(all_auprc[t][\"auprc\"]*100, all_auprc[t][\"f1\"]*100, all_auprc[t][\"avg_acc\"]*100), end=\" \")\n",
        "print(\"\\n\")"
      ]
    }
  ],
  "metadata": {
    "accelerator": "GPU",
    "colab": {
      "last_runtime": {
        "build_target": "//learning/grp/tools/ml_python:ml_notebook",
        "kind": "private"
      },
      "name": "skai_vit.ipynb",
      "private_outputs": true,
      "provenance": [
        {
          "file_id": "/piper/depot/google3/experimental/users/tarunkalluri/SKAI_training/skai_training_loo.ipynb?workspaceId=tarunkalluri:T2I_Robustness::citc",
          "timestamp": 1693509279201
        },
        {
          "file_id": "/piper/depot/google3/experimental/users/tarunkalluri/SKAI_training/skai_vit_withGenerations.ipynb?workspaceId=tarunkalluri:T2I_Robustness::citc",
          "timestamp": 1693336105935
        },
        {
          "file_id": "/piper/depot/google3/third_party/py/flax/examples/imagenet/imagenet.ipynb?workspaceId=tarunkalluri:TestTarunProject::citc",
          "timestamp": 1690488142060
        }
      ]
    },
    "kernelspec": {
      "display_name": "Python 3",
      "name": "python3"
    },
    "language_info": {
      "name": "python"
    }
  },
  "nbformat": 4,
  "nbformat_minor": 0
}
