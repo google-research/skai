{
  "cells": [
    {
      "cell_type": "markdown",
      "metadata": {
        "colab_type": "text",
        "id": "view-in-github"
      },
      "source": [
        "<a href=\"https://colab.research.google.com/github/google-research/skai/blob/skai-colab-0000002/src/colab/Initialize_SKAI_Colab_Kernel.ipynb\" target=\"_parent\"><img src=\"https://colab.research.google.com/assets/colab-badge.svg\" alt=\"Open In Colab\"/></a>"
      ]
    },
    {
      "cell_type": "markdown",
      "metadata": {
        "id": "ahFVM6s5B14O"
      },
      "source": [
        "# Initialize SKAI Colab Kernel\n",
        "This notebook sets up a new custom Colab kernel VM to run the SKAI notebook.\n",
        "**Please refer to the [SKAI Colab Notebooks Instructions](/docs/colab_instructions.md) before running this Colab notebook.**\n",
        "\n",
        "To use:\n",
        "1. Open this notebook in Colab.\n",
        "2. Connect to the custom kernel you want to initialize.\n",
        "3. Change settings as appropriate.\n",
        "4. Run all code cells.\n"
      ]
    },
    {
      "cell_type": "code",
      "execution_count": null,
      "metadata": {
        "cellView": "form",
        "id": "VG2skMxDd6qk"
      },
      "outputs": [],
      "source": [
        "#@title Settings\n",
        "\n",
        "#@markdown Please enter the parameters of **google cloud platform account** to use:\n",
        "CLOUD_PROJECT_NAME = \"\" #@param {type:\"string\"}\n",
        "CLOUD_LOCATION = \"\" #@param {type:\"string\"}\n",
        "CLOUD_SERVICE_ACCOUNT = \"\" #@param {type:\"string\"}\n",
        "\n",
        "#@markdown ---\n",
        "#@markdown Following parameters are used to clone the **git repository** and set up the **colab workspace directory**.\n",
        "\n",
        "#@markdown **We recommend not changing these parameters.**\n",
        "PRIVATE_KEY_PATH = \"/root/service-account-private-key.json\" #@param {type:\"string\"}\n",
        "VIRTUALENV_DIR = \"/content/skai_env\" #@param {type:\"string\"}\n",
        "SKAI_CODE_DIR = \"/content/skai_src\"  #@param {type:\"string\"}\n",
        "SKAI_REPO = \"https://github.com/google-research/skai.git\"  #@param {type:\"string\"}\n",
        "SKAI_BRANCH = \"main\" #@param {type:\"string\"}\n",
        "SKAI_COMMIT = \"\" #@param {type:\"string\"}"
      ]
    },
    {
      "cell_type": "markdown",
      "metadata": {
        "id": "RqItNdE6dSui"
      },
      "source": [
        "# Install newer version of GDAL"
      ]
    },
    {
      "cell_type": "code",
      "execution_count": null,
      "metadata": {
        "cellView": "form",
        "id": "WJOIgBn7dSSo"
      },
      "outputs": [],
      "source": [
        "#@markdown The default GDAL library version installed on custom colab kernels is out of date. These commands will update to a newer version.\n",
        "\n",
        "%%shell\n",
        "sudo add-apt-repository -y ppa:ubuntugis/ubuntugis-unstable\n",
        "sudo apt-get update\n",
        "sudo apt-get install gdal-bin\n",
        "gdalinfo --version | awk '$2 ~ /^3\\./ {exit 0} {exit 1}'"
      ]
    },
    {
      "cell_type": "markdown",
      "metadata": {
        "id": "Q-TsuFftALPz"
      },
      "source": [
        "# Install Python libraries for kernel"
      ]
    },
    {
      "cell_type": "code",
      "execution_count": null,
      "metadata": {
        "cellView": "form",
        "id": "ZiIvVFNWAKm8"
      },
      "outputs": [],
      "source": [
        "#@markdown These are dependencies needed by the colab notebook itself. This is distinct from installing the python dependencies into the SKAI virtualenv.\n",
        "%shell pip --use-deprecated=legacy-resolver install google-cloud-aiplatform==1.15.0 appengine-python-standard==1.0.0 google-cloud-monitoring==2.10.0 ipyplot==1.1.1 pyproj==3.2.1"
      ]
    },
    {
      "cell_type": "markdown",
      "metadata": {
        "id": "KzSkXvGX6IAz"
      },
      "source": [
        "# Create service account key file\n",
        "Because the custom kernel VM is shared among multiple users, users should not authenticate with GCP using their own accounts. Otherwise, their private credentials will be written to the kernel's filesystem for all other users to see.\n",
        "\n",
        "Instead, the colab should authenticate as a service account. In order to do that, a private key for the service account should be created and uploaded to the kernel. This should be done either via Cloud's web console following [these instructions](https://cloud.google.com/iam/docs/creating-managing-service-account-keys#iam-service-account-keys-create-console), or the user can run `gcloud` on their workstation to create the key file. The key file should end with \".json\".\n",
        "\n",
        "Regardless of how the key is created, it should be uploaded to the kernel.\n",
        "\n",
        "**Note 1:** For security, a new private key should be created for each kernel, instead of reusing one key for multiple kernels. This way, we can revoke a kernel's permissions by deleting the key.\n",
        "\n",
        "**Note 2:** By default, newly created private keys never expire. For increased security, we suggest setting the key to expire after you will no longer need it, for example in 6 months. You can always generate a new key after the current one expires. See [here](https://cloud.google.com/iam/docs/service-accounts#key-expiry) for details."
      ]
    },
    {
      "cell_type": "code",
      "execution_count": null,
      "metadata": {
        "cellView": "form",
        "id": "W0SHhnIs4EjN"
      },
      "outputs": [],
      "source": [
        "#@markdown Upload key file\n",
        "\n",
        "from google.colab import files\n",
        "\n",
        "print('Use Cloud web console to create a service account private key, or run the following command on your workstation:\\n')\n",
        "print(f'gcloud iam service-accounts keys create service-account-private-key.json --iam-account={CLOUD_SERVICE_ACCOUNT}\\n')\n",
        "print('Then upload the created file to to colab')\n",
        "\n",
        "uploaded = files.upload()\n",
        "if len(uploaded) == 1:\n",
        "  KEY_FILE = list(uploaded.keys())[0]\n",
        "  !mv {KEY_FILE} {PRIVATE_KEY_PATH}\n"
      ]
    },
    {
      "cell_type": "markdown",
      "metadata": {
        "id": "Do9KUQWkC5hd"
      },
      "source": [
        "# Set Cloud project and service account"
      ]
    },
    {
      "cell_type": "code",
      "execution_count": null,
      "metadata": {
        "cellView": "form",
        "id": "cjoakMq1xZSt"
      },
      "outputs": [],
      "source": [
        "#@markdown 1. Set project name and default location.\n",
        "#@markdown 2. Activate the service account.\n",
        "%shell gcloud config set project {CLOUD_PROJECT_NAME}\n",
        "%shell gcloud auth activate-service-account {CLOUD_SERVICE_ACCOUNT} --key-file={PRIVATE_KEY_PATH}\n",
        "%shell gcloud config set compute/region {CLOUD_LOCATION}\n"
      ]
    },
    {
      "cell_type": "markdown",
      "metadata": {
        "id": "6szMvm-1CNFp"
      },
      "source": [
        "# Clone SKAI github repo"
      ]
    },
    {
      "cell_type": "code",
      "execution_count": null,
      "metadata": {
        "id": "srPFxwZo6mej"
      },
      "outputs": [],
      "source": [
        "#@markdown Clone main branch repo\n",
        "%shell rm -rf {SKAI_CODE_DIR}\n",
        "%shell git clone -b {SKAI_BRANCH} {SKAI_REPO} {SKAI_CODE_DIR}\n",
        "if SKAI_COMMIT!='':\n",
        "  %shell cd {SKAI_CODE_DIR} ; git checkout {SKAI_COMMIT}"
      ]
    },
    {
      "cell_type": "markdown",
      "metadata": {
        "id": "6py-IvQxCV5y"
      },
      "source": [
        "# Create Python virtualenv for running SKAI"
      ]
    },
    {
      "cell_type": "code",
      "execution_count": null,
      "metadata": {
        "cellView": "form",
        "id": "bEwwVUnzESQM"
      },
      "outputs": [],
      "source": [
        "#@markdown 1. Install virtualenv module using pip.\n",
        "#@markdown 2. Create \"skai_env\" virtual environment.\n",
        "#@markdown 3. Install Python dependencies into virtual environment using SKAI's requirements.txt\n",
        "\n",
        "%%bash -s \"$VIRTUALENV_DIR\" \"$SKAI_CODE_DIR\"\n",
        "set -e\n",
        "\n",
        "pip3 install virtualenv\n",
        "virtualenv \"$1\"\n",
        "source \"$1/bin/activate\"\n",
        "pip install -r \"$2/requirements.txt\""
      ]
    }
  ],
  "metadata": {
    "colab": {
      "collapsed_sections": [
        "KzSkXvGX6IAz"
      ],
      "history_visible": true,
      "include_colab_link": true,
      "name": "Initialize SKAI Colab Kernel",
      "private_outputs": true,
      "provenance": []
    },
    "kernelspec": {
      "display_name": "Python 3",
      "name": "python3"
    },
    "language_info": {
      "name": "python"
    }
  },
  "nbformat": 4,
  "nbformat_minor": 0
}
