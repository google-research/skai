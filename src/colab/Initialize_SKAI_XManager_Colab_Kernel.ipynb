{
  "cells": [
    {
      "cell_type": "markdown",
      "metadata": {
        "id": "ahFVM6s5B14O"
      },
      "source": [
        "# Initialize SKAI Colab Kernel\n",
        "This notebook sets up a new custom Colab kernel VM to run the SKAI notebook.\n",
        "\n",
        "To use:\n",
        "1. Open this notebook in Colab.\n",
        "2. <font color='red'>**Connect to the custom kernel you want to initialize.**\n",
        "<font color='black'>\n",
        "3. Change settings as appropriate.\n",
        "4. Run all code cells."
      ]
    },
    {
      "cell_type": "code",
      "execution_count": null,
      "metadata": {
        "cellView": "form",
        "id": "VG2skMxDd6qk"
      },
      "outputs": [],
      "source": [
        "#@title Settings\n",
        "\n",
        "#@markdown Please enter the parameters of **google cloud platform account** to use:\n",
        "GCP_PROJECT_ID = \"\" #@param {type:\"string\"}\n",
        "GCP_REGION = \"us-central1\" #@param {type:\"string\"}\n",
        "CLOUD_SERVICE_ACCOUNT = \"\" #@param {type:\"string\"}\n",
        "\n",
        "#@markdown ---\n",
        "#@markdown Following parameters are used to set up the private key access control.\n",
        "\n",
        "#@markdown **We recommend not changing these parameters.**\n",
        "PRIVATE_KEY_PATH = \"/root/service-account-private-key.json\" #@param {type:\"string\"}"
      ]
    },
    {
      "cell_type": "markdown",
      "metadata": {
        "id": "KzSkXvGX6IAz"
      },
      "source": [
        "# Create Service Account Key File\n",
        "Because the custom kernel VM is shared among multiple users, users should not authenticate with GCP using their own accounts. Otherwise, their private credentials will be written to the kernel's filesystem for all other users to see.\n",
        "\n",
        "Instead, the colab should authenticate as a service account. In order to do that, a private key for the service account should be created and uploaded to the kernel. This should be done either via Cloud's web console following [these instructions](https://cloud.google.com/iam/docs/creating-managing-service-account-keys#iam-service-account-keys-create-console), or the user can run `gcloud` on their workstation to create the key file. The key file should end with \".json\".\n",
        "\n",
        "After creating the service account, assign the following roles by following the instructions [here](https://cloud.google.com/iam/docs/manage-access-service-accounts#multiple-roles-console)\n",
        "- Vertex AI Custom Code Service Agent\n",
        "- Vertex AI Service Agent\n",
        "- Vertex AI User\n",
        "- Cloud Build Service Account\n",
        "- Cloud Build Service Agent\n",
        "- Compute Engine Service Agent\n",
        "- Container Registry Service Agent\n",
        "- Cloud Dataflow Service Agent\n",
        "- Editor\n",
        "- Cloud Pub/Sub Service Agent\n",
        "- Storage Admin\n",
        "\n",
        "Regardless of how the key is created, it should be uploaded to the kernel.\n",
        "\n",
        "**Note 1:** For security, a new private key should be created for each kernel, instead of reusing one key for multiple kernels. This way, we can revoke a kernel's permissions by deleting the key.\n",
        "\n",
        "**Note 2:** By default, newly created private keys never expire. For increased security, we suggest setting the key to expire after you will no longer need it, for example in 6 months. You can always generate a new key after the current one expires. See [here](https://cloud.google.com/iam/docs/service-accounts#key-expiry) for details."
      ]
    },
    {
      "cell_type": "markdown",
      "metadata": {},
      "source": [
        "# Upload Service Account Key File"
      ]
    },
    {
      "cell_type": "code",
      "execution_count": null,
      "metadata": {
        "cellView": "form",
        "id": "W0SHhnIs4EjN"
      },
      "outputs": [],
      "source": [
        "#@markdown Upload serive account key file\n",
        "\n",
        "from google.colab import files\n",
        "\n",
        "print('Use Cloud web console to create a service account private key, or run the following command on your workstation:\\n')\n",
        "print(f'gcloud iam service-accounts keys create service-account-private-key.json --iam-account={CLOUD_SERVICE_ACCOUNT}\\n')\n",
        "print('Then upload the created file to to colab')\n",
        "\n",
        "uploaded = files.upload()\n",
        "if len(uploaded) == 1:\n",
        "  KEY_FILE = list(uploaded.keys())[0]\n",
        "  !mv {KEY_FILE} {PRIVATE_KEY_PATH}\n"
      ]
    },
    {
      "cell_type": "markdown",
      "metadata": {
        "id": "Do9KUQWkC5hd"
      },
      "source": [
        "# Set Cloud Project and Service Account"
      ]
    },
    {
      "cell_type": "code",
      "execution_count": null,
      "metadata": {
        "cellView": "form",
        "id": "cjoakMq1xZSt"
      },
      "outputs": [],
      "source": [
        "#@markdown 1. Set project name and default location.\n",
        "#@markdown 2. Activate the service account.\n",
        "%shell gcloud config set project {GCP_PROJECT_ID}\n",
        "%shell gcloud auth activate-service-account {CLOUD_SERVICE_ACCOUNT} --key-file={PRIVATE_KEY_PATH}\n",
        "%shell gcloud config set compute/region {GCP_REGION}\n",
        "%shell export GOOGLE_APPLICATION_CREDENTIALS=$PRIVATE_KEY_PATH\n"
      ]
    }
  ],
  "metadata": {
    "accelerator": "GPU",
    "colab": {
      "collapsed_sections": [
        "KzSkXvGX6IAz"
      ],
      "gpuType": "T4",
      "private_outputs": true,
      "provenance": []
    },
    "kernelspec": {
      "display_name": "Python 3",
      "name": "python3"
    },
    "language_info": {
      "name": "python"
    }
  },
  "nbformat": 4,
  "nbformat_minor": 0
}
